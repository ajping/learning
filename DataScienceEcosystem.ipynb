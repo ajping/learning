{
  "cells": [
    {
      "cell_type": "markdown",
      "metadata": {
        "id": "view-in-github",
        "colab_type": "text"
      },
      "source": [
        "<a href=\"https://colab.research.google.com/github/ajping/learning/blob/main/DataScienceEcosystem.ipynb\" target=\"_parent\"><img src=\"https://colab.research.google.com/assets/colab-badge.svg\" alt=\"Open In Colab\"/></a>"
      ]
    },
    {
      "cell_type": "markdown",
      "source": [
        "# Data Science Tools and Ecosystem"
      ],
      "metadata": {
        "id": "eBsJoSy4z8A1"
      }
    },
    {
      "cell_type": "markdown",
      "source": [
        "In this notebook, Data Science Tools and Ecosystem are summarized.\n",
        "Some of the popular languages that Data Scientists use are:\n",
        "1. R\n",
        "1. Python\n",
        "1. SQL\n",
        "\n",
        "Some of the commonly used libraries used by Data Scientists include:\n",
        "1. matplotlib\n",
        "1. pandas\n",
        "1. scikit-learn\n",
        "\n",
        "|Data Science Tools|\n",
        "--------------------\n",
        "|Git|\n",
        "|Jupyter|\n",
        "|RStudio|"
      ],
      "metadata": {
        "id": "CdkJchI20LZl"
      }
    },
    {
      "cell_type": "markdown",
      "source": [
        "This is a simple arithmetic expression to multiply and add integers."
      ],
      "metadata": {
        "id": "OPhdQACf099U"
      }
    },
    {
      "cell_type": "code",
      "source": [
        "(3*4)+5"
      ],
      "metadata": {
        "colab": {
          "base_uri": "https://localhost:8080/"
        },
        "id": "mIm_hg1G03lm",
        "outputId": "89980e75-abbb-48ec-b871-eb3e180cb77d"
      },
      "execution_count": 4,
      "outputs": [
        {
          "output_type": "execute_result",
          "data": {
            "text/plain": [
              "17"
            ]
          },
          "metadata": {},
          "execution_count": 4
        }
      ]
    },
    {
      "cell_type": "markdown",
      "source": [
        "This will convert 200 minutes to hours by dividing by 60"
      ],
      "metadata": {
        "id": "PE8A6-pQ1P79"
      }
    },
    {
      "cell_type": "code",
      "source": [
        "200/60"
      ],
      "metadata": {
        "colab": {
          "base_uri": "https://localhost:8080/"
        },
        "id": "uMzN0z9L1Va1",
        "outputId": "7aace00d-58f1-4f06-95d1-41ffd192fab5"
      },
      "execution_count": 5,
      "outputs": [
        {
          "output_type": "execute_result",
          "data": {
            "text/plain": [
              "3.3333333333333335"
            ]
          },
          "metadata": {},
          "execution_count": 5
        }
      ]
    },
    {
      "cell_type": "markdown",
      "source": [
        "**Objectives:**\n",
        "* List popular languages for Data Science\n",
        "* Perform basic calculations in Jupyter Notebook\n",
        "* Demonstrate knowlege of markdown lists, tables, and formatting"
      ],
      "metadata": {
        "id": "2H9BpeRt1bLt"
      }
    },
    {
      "cell_type": "markdown",
      "source": [
        "## Author\n",
        "Aaron Ping"
      ],
      "metadata": {
        "id": "u_NmTOrd15t_"
      }
    },
    {
      "cell_type": "code",
      "source": [],
      "metadata": {
        "id": "7u8XeMJd1dwJ"
      },
      "execution_count": null,
      "outputs": []
    }
  ],
  "metadata": {
    "kernelspec": {
      "display_name": "Python",
      "language": "python",
      "name": "conda-env-python-py"
    },
    "language_info": {
      "name": ""
    },
    "colab": {
      "provenance": [],
      "include_colab_link": true
    }
  },
  "nbformat": 4,
  "nbformat_minor": 0
}